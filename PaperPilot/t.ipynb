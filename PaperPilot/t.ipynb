{
 "cells": [
  {
   "cell_type": "code",
   "execution_count": null,
   "metadata": {},
   "outputs": [],
   "source": [
    "from sklearn.svm import SVC\n",
    "# Load a dataset (Example: Iris dataset)\n",
    "# Initialize the SVM classifier (you can specify different kernel types and parameters)\n",
    "svm_classifier = SVC(kernel='linear')  # You can try 'rbf', 'poly', 'sigmoid' kernels as well\n",
    "\n",
    "# Train the SVM model\n",
    "svm_classifier.fit(X_train, y_train)\n",
    "\n",
    "# Make predictions\n",
    "predictions = svm_classifier.predict(X_test)"
   ]
  }
 ],
 "metadata": {
  "kernelspec": {
   "display_name": "Python 3",
   "language": "python",
   "name": "python3"
  },
  "language_info": {
   "name": "python",
   "version": "3.10.0"
  }
 },
 "nbformat": 4,
 "nbformat_minor": 2
}
